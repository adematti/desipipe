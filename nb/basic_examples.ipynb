{
 "cells": [
  {
   "cell_type": "markdown",
   "id": "07bf9c1e",
   "metadata": {},
   "source": [
    "# Basic examples\n",
    "In this notebook we will show how to write a basic pipeline, in the **desipipe** framework. You need to have installed **desipipe** with:\n",
    "```\n",
    "python -m pip install git+https://github.com/cosmodesi/desipipe#egg=desipipe\n",
    "```"
   ]
  },
  {
   "cell_type": "markdown",
   "id": "37ce0568",
   "metadata": {},
   "source": [
    "## Task manager\n",
    "Let's consider a simple example: the Monte-Carlo estimation of $\\pi$."
   ]
  },
  {
   "cell_type": "code",
   "execution_count": 1,
   "id": "76bf7092",
   "metadata": {},
   "outputs": [
    {
     "name": "stdout",
     "output_type": "stream",
     "text": [
      "Elapsed time: 0.8341\n"
     ]
    }
   ],
   "source": [
    "import time\n",
    "\n",
    "from desipipe import Queue, Environment, TaskManager, FileManager\n",
    "\n",
    "# Let's instantiate a Queue, which records all tasks to be performed\n",
    "# spawn = True means a manager process is spawned to distribute the tasks among workers\n",
    "queue = Queue('test', base_dir='_tests', spawn=True)\n",
    "# Pool of 4 workers\n",
    "tm = TaskManager(queue, environ=Environment(), scheduler=dict(max_workers=4))\n",
    "\n",
    "# We decorate the function (task) with tm.python_app\n",
    "@tm.python_app\n",
    "def fraction(seed=42, size=10000):\n",
    "    import time\n",
    "    import numpy as np\n",
    "    time.sleep(5)  # wait, just to show jobs are indeed run in parallel\n",
    "    x, y = np.random.uniform(-1, 1, size), np.random.uniform(-1, 1, size)\n",
    "    return np.sum((x**2 + y**2) < 1.) * 1. / size\n",
    "\n",
    "\n",
    "# Here we use another task manager, with only 1 worker\n",
    "@tm.clone(scheduler=dict(max_workers=1)).python_app\n",
    "def average(fractions):\n",
    "    import numpy as np\n",
    "    return np.average(fractions) * 4.\n",
    "\n",
    "\n",
    "t0 = time.time()\n",
    "# The following line stacks all the tasks in the queue\n",
    "fractions = [fraction(seed=i) for i in range(20)]\n",
    "# fractions is a list of Future instances\n",
    "# We can pass them to other tasks, which creates a dependency graph\n",
    "avg = average(fractions)\n",
    "# At this point jobs are submitted\n",
    "print('Elapsed time: {:.4f}'.format(time.time() - t0))"
   ]
  },
  {
   "cell_type": "code",
   "execution_count": 2,
   "id": "d60f9d87",
   "metadata": {},
   "outputs": [
    {
     "name": "stdout",
     "output_type": "stream",
     "text": [
      "pi is ~ 3.1439\n",
      "Elapsed time: 26.9\n"
     ]
    }
   ],
   "source": [
    "t0 = time.time()\n",
    "# result() returns the result of the function, which can take some time to complete\n",
    "# in this case, ~ 20 tasks which take 5 seconds each distributed over 4 processes: typically 25 seconds\n",
    "print('pi is ~ {:.4f}'.format(avg.result()))\n",
    "print('Elapsed time: {:.1f}'.format(time.time() - t0))"
   ]
  },
  {
   "cell_type": "markdown",
   "id": "0ecfb5fa",
   "metadata": {},
   "source": [
    "If you re-execute the two above cells, the cached result is immediately returned.\n",
    "If you modify e.g. ``fraction``, a new result will be computed. "
   ]
  },
  {
   "cell_type": "code",
   "execution_count": 3,
   "id": "d06731fe",
   "metadata": {},
   "outputs": [],
   "source": [
    "# To delete the queue:\n",
    "queue.delete()"
   ]
  }
 ],
 "metadata": {
  "kernelspec": {
   "display_name": "cosmodesi",
   "language": "python",
   "name": "cosmodesi"
  },
  "language_info": {
   "codemirror_mode": {
    "name": "ipython",
    "version": 3
   },
   "file_extension": ".py",
   "mimetype": "text/x-python",
   "name": "python",
   "nbconvert_exporter": "python",
   "pygments_lexer": "ipython3",
   "version": "3.9.13"
  }
 },
 "nbformat": 4,
 "nbformat_minor": 5
}
